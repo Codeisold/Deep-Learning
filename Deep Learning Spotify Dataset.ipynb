{
 "cells": [
  {
   "cell_type": "markdown",
   "metadata": {},
   "source": [
    "## Deep Learning Project using Spotify Dataset"
   ]
  },
  {
   "cell_type": "markdown",
   "metadata": {},
   "source": [
    "### List of Contents - \n",
    "### 1) Data Cleaning\n",
    "### 2) EDA and Feature Extraction \n",
    "### 3) Task and Objectives\n",
    "### 4) Analysis in Neural Network \n",
    "### 5) Conclusions"
   ]
  },
  {
   "cell_type": "markdown",
   "metadata": {},
   "source": [
    "### 1st Part - Data Cleaning\n",
    "#### Read Spotify Data"
   ]
  },
  {
   "cell_type": "code",
   "execution_count": 65,
   "metadata": {},
   "outputs": [],
   "source": [
    "# import libraries used in this project\n",
    "import numpy as np\n",
    "import pandas as pd\n",
    "import matplotlib.pyplot as plt\n",
    "import seaborn as sb\n",
    "from wordcloud import WordCloud\n",
    "import seaborn as sns"
   ]
  },
  {
   "cell_type": "code",
   "execution_count": 59,
   "metadata": {},
   "outputs": [
    {
     "name": "stdout",
     "output_type": "stream",
     "text": [
      "Collecting wordcloud\n",
      "  Downloading wordcloud-1.8.1-cp37-cp37m-win_amd64.whl (154 kB)\n",
      "Requirement already satisfied: pillow in c:\\users\\dell\\anaconda3\\lib\\site-packages (from wordcloud) (7.0.0)\n",
      "Requirement already satisfied: numpy>=1.6.1 in c:\\users\\dell\\anaconda3\\lib\\site-packages (from wordcloud) (1.19.5)\n",
      "Requirement already satisfied: matplotlib in c:\\users\\dell\\anaconda3\\lib\\site-packages (from wordcloud) (3.1.3)\n",
      "Requirement already satisfied: python-dateutil>=2.1 in c:\\users\\dell\\anaconda3\\lib\\site-packages (from matplotlib->wordcloud) (2.8.1)\n",
      "Requirement already satisfied: cycler>=0.10 in c:\\users\\dell\\anaconda3\\lib\\site-packages (from matplotlib->wordcloud) (0.10.0)\n",
      "Requirement already satisfied: pyparsing!=2.0.4,!=2.1.2,!=2.1.6,>=2.0.1 in c:\\users\\dell\\anaconda3\\lib\\site-packages (from matplotlib->wordcloud) (2.4.6)\n",
      "Requirement already satisfied: kiwisolver>=1.0.1 in c:\\users\\dell\\anaconda3\\lib\\site-packages (from matplotlib->wordcloud) (1.1.0)\n",
      "Requirement already satisfied: six>=1.5 in c:\\users\\dell\\anaconda3\\lib\\site-packages (from python-dateutil>=2.1->matplotlib->wordcloud) (1.15.0)\n",
      "Requirement already satisfied: setuptools in c:\\users\\dell\\anaconda3\\lib\\site-packages (from kiwisolver>=1.0.1->matplotlib->wordcloud) (45.2.0.post20200210)\n",
      "Installing collected packages: wordcloud\n",
      "Successfully installed wordcloud-1.8.1\n",
      "Note: you may need to restart the kernel to use updated packages.\n"
     ]
    }
   ],
   "source": [
    "pip install wordcloud"
   ]
  },
  {
   "cell_type": "code",
   "execution_count": 180,
   "metadata": {},
   "outputs": [],
   "source": [
    "spotify = pd.read_csv(\"Spotify Dataset.csv\", encoding='ISO-8859-1')"
   ]
  },
  {
   "cell_type": "code",
   "execution_count": 181,
   "metadata": {
    "scrolled": true
   },
   "outputs": [
    {
     "data": {
      "text/html": [
       "<div>\n",
       "<style scoped>\n",
       "    .dataframe tbody tr th:only-of-type {\n",
       "        vertical-align: middle;\n",
       "    }\n",
       "\n",
       "    .dataframe tbody tr th {\n",
       "        vertical-align: top;\n",
       "    }\n",
       "\n",
       "    .dataframe thead th {\n",
       "        text-align: right;\n",
       "    }\n",
       "</style>\n",
       "<table border=\"1\" class=\"dataframe\">\n",
       "  <thead>\n",
       "    <tr style=\"text-align: right;\">\n",
       "      <th></th>\n",
       "      <th>title</th>\n",
       "      <th>artist</th>\n",
       "      <th>top genre</th>\n",
       "      <th>year</th>\n",
       "      <th>bpm</th>\n",
       "      <th>nrgy</th>\n",
       "      <th>dnce</th>\n",
       "      <th>dB</th>\n",
       "      <th>live</th>\n",
       "      <th>val</th>\n",
       "      <th>dur</th>\n",
       "      <th>acous</th>\n",
       "      <th>spch</th>\n",
       "      <th>pop</th>\n",
       "    </tr>\n",
       "  </thead>\n",
       "  <tbody>\n",
       "    <tr>\n",
       "      <th>0</th>\n",
       "      <td>Hey, Soul Sister</td>\n",
       "      <td>Train</td>\n",
       "      <td>neo mellow</td>\n",
       "      <td>2010</td>\n",
       "      <td>97</td>\n",
       "      <td>89</td>\n",
       "      <td>67</td>\n",
       "      <td>-4</td>\n",
       "      <td>8</td>\n",
       "      <td>80</td>\n",
       "      <td>217</td>\n",
       "      <td>19</td>\n",
       "      <td>4</td>\n",
       "      <td>83</td>\n",
       "    </tr>\n",
       "    <tr>\n",
       "      <th>1</th>\n",
       "      <td>Love The Way You Lie</td>\n",
       "      <td>Eminem</td>\n",
       "      <td>detroit hip hop</td>\n",
       "      <td>2010</td>\n",
       "      <td>87</td>\n",
       "      <td>93</td>\n",
       "      <td>75</td>\n",
       "      <td>-5</td>\n",
       "      <td>52</td>\n",
       "      <td>64</td>\n",
       "      <td>263</td>\n",
       "      <td>24</td>\n",
       "      <td>23</td>\n",
       "      <td>82</td>\n",
       "    </tr>\n",
       "    <tr>\n",
       "      <th>2</th>\n",
       "      <td>TiK ToK</td>\n",
       "      <td>Kesha</td>\n",
       "      <td>dance pop</td>\n",
       "      <td>2010</td>\n",
       "      <td>120</td>\n",
       "      <td>84</td>\n",
       "      <td>76</td>\n",
       "      <td>-3</td>\n",
       "      <td>29</td>\n",
       "      <td>71</td>\n",
       "      <td>200</td>\n",
       "      <td>10</td>\n",
       "      <td>14</td>\n",
       "      <td>80</td>\n",
       "    </tr>\n",
       "    <tr>\n",
       "      <th>3</th>\n",
       "      <td>Bad Romance</td>\n",
       "      <td>Lady Gaga</td>\n",
       "      <td>dance pop</td>\n",
       "      <td>2010</td>\n",
       "      <td>119</td>\n",
       "      <td>92</td>\n",
       "      <td>70</td>\n",
       "      <td>-4</td>\n",
       "      <td>8</td>\n",
       "      <td>71</td>\n",
       "      <td>295</td>\n",
       "      <td>0</td>\n",
       "      <td>4</td>\n",
       "      <td>79</td>\n",
       "    </tr>\n",
       "    <tr>\n",
       "      <th>4</th>\n",
       "      <td>Just the Way You Are</td>\n",
       "      <td>Bruno Mars</td>\n",
       "      <td>pop</td>\n",
       "      <td>2010</td>\n",
       "      <td>109</td>\n",
       "      <td>84</td>\n",
       "      <td>64</td>\n",
       "      <td>-5</td>\n",
       "      <td>9</td>\n",
       "      <td>43</td>\n",
       "      <td>221</td>\n",
       "      <td>2</td>\n",
       "      <td>4</td>\n",
       "      <td>78</td>\n",
       "    </tr>\n",
       "  </tbody>\n",
       "</table>\n",
       "</div>"
      ],
      "text/plain": [
       "                  title      artist        top genre  year  bpm  nrgy  dnce  \\\n",
       "0      Hey, Soul Sister       Train       neo mellow  2010   97    89    67   \n",
       "1  Love The Way You Lie      Eminem  detroit hip hop  2010   87    93    75   \n",
       "2               TiK ToK       Kesha        dance pop  2010  120    84    76   \n",
       "3           Bad Romance   Lady Gaga        dance pop  2010  119    92    70   \n",
       "4  Just the Way You Are  Bruno Mars              pop  2010  109    84    64   \n",
       "\n",
       "   dB  live  val  dur  acous  spch  pop  \n",
       "0  -4     8   80  217     19     4   83  \n",
       "1  -5    52   64  263     24    23   82  \n",
       "2  -3    29   71  200     10    14   80  \n",
       "3  -4     8   71  295      0     4   79  \n",
       "4  -5     9   43  221      2     4   78  "
      ]
     },
     "execution_count": 181,
     "metadata": {},
     "output_type": "execute_result"
    }
   ],
   "source": [
    "# Removed a unwanted index column with just serial numbers \n",
    "spotify = spotify.iloc[:,1:]\n",
    "spotify.head()"
   ]
  },
  {
   "cell_type": "markdown",
   "metadata": {},
   "source": [
    "#### 1) Cleaning column Name"
   ]
  },
  {
   "cell_type": "code",
   "execution_count": 182,
   "metadata": {},
   "outputs": [],
   "source": [
    "spotify.rename(columns={'title':'song', 'artist':'artist', 'top genre':'genre', 'year':'year', \n",
    "                     'bpm':'beats_per_minute','nrgy':'energy',\n",
    "                    'dnce':'danceability','dB':'loudness','live':'liveness', \n",
    "                    'val':'valence', 'dur':'length', 'acous':'acousticness',\n",
    "                    'spch':'speechiness','pop':'popularity'}, inplace=True)"
   ]
  },
  {
   "cell_type": "markdown",
   "metadata": {},
   "source": [
    "#### 2) Checking for any missing values "
   ]
  },
  {
   "cell_type": "code",
   "execution_count": 46,
   "metadata": {},
   "outputs": [
    {
     "data": {
      "text/plain": [
       "song                False\n",
       "artist              False\n",
       "genre               False\n",
       "year                False\n",
       "beats_per_minute    False\n",
       "energy              False\n",
       "danceability        False\n",
       "loudness            False\n",
       "liveness            False\n",
       "valence             False\n",
       "length              False\n",
       "acousticness        False\n",
       "speechiness         False\n",
       "popularity          False\n",
       "dtype: bool"
      ]
     },
     "execution_count": 46,
     "metadata": {},
     "output_type": "execute_result"
    }
   ],
   "source": [
    "spotify.isnull().any()\n",
    "\n",
    "# No null values are present in the dataset"
   ]
  },
  {
   "cell_type": "markdown",
   "metadata": {},
   "source": [
    "#### 3) Droping Duplicates "
   ]
  },
  {
   "cell_type": "code",
   "execution_count": 47,
   "metadata": {},
   "outputs": [
    {
     "name": "stdout",
     "output_type": "stream",
     "text": [
      "Shape before dropping the duplicates was :  (603, 14)\n",
      "Shape after dropping the duplicates was :  (603, 14)\n",
      "Dataset contains no duplicates\n"
     ]
    }
   ],
   "source": [
    "print(\"Shape before dropping the duplicates was : \", spotify.shape)\n",
    "spotify = spotify.drop_duplicates()\n",
    "print(\"Shape after dropping the duplicates was : \", spotify.shape)\n",
    "\n",
    "print(\"Dataset contains no duplicates\")"
   ]
  },
  {
   "cell_type": "markdown",
   "metadata": {},
   "source": [
    "#### 4) Checking Data type of all columns"
   ]
  },
  {
   "cell_type": "code",
   "execution_count": 48,
   "metadata": {},
   "outputs": [
    {
     "data": {
      "text/plain": [
       "song                object\n",
       "artist              object\n",
       "genre               object\n",
       "year                 int64\n",
       "beats_per_minute     int64\n",
       "energy               int64\n",
       "danceability         int64\n",
       "loudness             int64\n",
       "liveness             int64\n",
       "valence              int64\n",
       "length               int64\n",
       "acousticness         int64\n",
       "speechiness          int64\n",
       "popularity           int64\n",
       "dtype: object"
      ]
     },
     "execution_count": 48,
     "metadata": {},
     "output_type": "execute_result"
    }
   ],
   "source": [
    "spotify.dtypes\n",
    "\n",
    "# title/ artist and top genre has data type has object \n",
    "# Rest of the features have numerical value"
   ]
  },
  {
   "cell_type": "markdown",
   "metadata": {},
   "source": [
    "#### 4) Check Count, Mean , Standard deviation and percentiles "
   ]
  },
  {
   "cell_type": "code",
   "execution_count": 49,
   "metadata": {
    "scrolled": true
   },
   "outputs": [
    {
     "data": {
      "text/html": [
       "<div>\n",
       "<style scoped>\n",
       "    .dataframe tbody tr th:only-of-type {\n",
       "        vertical-align: middle;\n",
       "    }\n",
       "\n",
       "    .dataframe tbody tr th {\n",
       "        vertical-align: top;\n",
       "    }\n",
       "\n",
       "    .dataframe thead th {\n",
       "        text-align: right;\n",
       "    }\n",
       "</style>\n",
       "<table border=\"1\" class=\"dataframe\">\n",
       "  <thead>\n",
       "    <tr style=\"text-align: right;\">\n",
       "      <th></th>\n",
       "      <th>year</th>\n",
       "      <th>beats_per_minute</th>\n",
       "      <th>energy</th>\n",
       "      <th>danceability</th>\n",
       "      <th>loudness</th>\n",
       "      <th>liveness</th>\n",
       "      <th>valence</th>\n",
       "      <th>length</th>\n",
       "      <th>acousticness</th>\n",
       "      <th>speechiness</th>\n",
       "      <th>popularity</th>\n",
       "    </tr>\n",
       "  </thead>\n",
       "  <tbody>\n",
       "    <tr>\n",
       "      <th>count</th>\n",
       "      <td>603.000000</td>\n",
       "      <td>603.000000</td>\n",
       "      <td>603.000000</td>\n",
       "      <td>603.000000</td>\n",
       "      <td>603.000000</td>\n",
       "      <td>603.000000</td>\n",
       "      <td>603.000000</td>\n",
       "      <td>603.000000</td>\n",
       "      <td>603.000000</td>\n",
       "      <td>603.000000</td>\n",
       "      <td>603.000000</td>\n",
       "    </tr>\n",
       "    <tr>\n",
       "      <th>mean</th>\n",
       "      <td>2014.592040</td>\n",
       "      <td>118.545605</td>\n",
       "      <td>70.504146</td>\n",
       "      <td>64.379768</td>\n",
       "      <td>-5.578773</td>\n",
       "      <td>17.774461</td>\n",
       "      <td>52.225539</td>\n",
       "      <td>224.674959</td>\n",
       "      <td>14.326700</td>\n",
       "      <td>8.358209</td>\n",
       "      <td>66.520730</td>\n",
       "    </tr>\n",
       "    <tr>\n",
       "      <th>std</th>\n",
       "      <td>2.607057</td>\n",
       "      <td>24.795358</td>\n",
       "      <td>16.310664</td>\n",
       "      <td>13.378718</td>\n",
       "      <td>2.798020</td>\n",
       "      <td>13.102543</td>\n",
       "      <td>22.513020</td>\n",
       "      <td>34.130059</td>\n",
       "      <td>20.766165</td>\n",
       "      <td>7.483162</td>\n",
       "      <td>14.517746</td>\n",
       "    </tr>\n",
       "    <tr>\n",
       "      <th>min</th>\n",
       "      <td>2010.000000</td>\n",
       "      <td>0.000000</td>\n",
       "      <td>0.000000</td>\n",
       "      <td>0.000000</td>\n",
       "      <td>-60.000000</td>\n",
       "      <td>0.000000</td>\n",
       "      <td>0.000000</td>\n",
       "      <td>134.000000</td>\n",
       "      <td>0.000000</td>\n",
       "      <td>0.000000</td>\n",
       "      <td>0.000000</td>\n",
       "    </tr>\n",
       "    <tr>\n",
       "      <th>25%</th>\n",
       "      <td>2013.000000</td>\n",
       "      <td>100.000000</td>\n",
       "      <td>61.000000</td>\n",
       "      <td>57.000000</td>\n",
       "      <td>-6.000000</td>\n",
       "      <td>9.000000</td>\n",
       "      <td>35.000000</td>\n",
       "      <td>202.000000</td>\n",
       "      <td>2.000000</td>\n",
       "      <td>4.000000</td>\n",
       "      <td>60.000000</td>\n",
       "    </tr>\n",
       "    <tr>\n",
       "      <th>50%</th>\n",
       "      <td>2015.000000</td>\n",
       "      <td>120.000000</td>\n",
       "      <td>74.000000</td>\n",
       "      <td>66.000000</td>\n",
       "      <td>-5.000000</td>\n",
       "      <td>12.000000</td>\n",
       "      <td>52.000000</td>\n",
       "      <td>221.000000</td>\n",
       "      <td>6.000000</td>\n",
       "      <td>5.000000</td>\n",
       "      <td>69.000000</td>\n",
       "    </tr>\n",
       "    <tr>\n",
       "      <th>75%</th>\n",
       "      <td>2017.000000</td>\n",
       "      <td>129.000000</td>\n",
       "      <td>82.000000</td>\n",
       "      <td>73.000000</td>\n",
       "      <td>-4.000000</td>\n",
       "      <td>24.000000</td>\n",
       "      <td>69.000000</td>\n",
       "      <td>239.500000</td>\n",
       "      <td>17.000000</td>\n",
       "      <td>9.000000</td>\n",
       "      <td>76.000000</td>\n",
       "    </tr>\n",
       "    <tr>\n",
       "      <th>max</th>\n",
       "      <td>2019.000000</td>\n",
       "      <td>206.000000</td>\n",
       "      <td>98.000000</td>\n",
       "      <td>97.000000</td>\n",
       "      <td>-2.000000</td>\n",
       "      <td>74.000000</td>\n",
       "      <td>98.000000</td>\n",
       "      <td>424.000000</td>\n",
       "      <td>99.000000</td>\n",
       "      <td>48.000000</td>\n",
       "      <td>99.000000</td>\n",
       "    </tr>\n",
       "  </tbody>\n",
       "</table>\n",
       "</div>"
      ],
      "text/plain": [
       "              year  beats_per_minute      energy  danceability    loudness  \\\n",
       "count   603.000000        603.000000  603.000000    603.000000  603.000000   \n",
       "mean   2014.592040        118.545605   70.504146     64.379768   -5.578773   \n",
       "std       2.607057         24.795358   16.310664     13.378718    2.798020   \n",
       "min    2010.000000          0.000000    0.000000      0.000000  -60.000000   \n",
       "25%    2013.000000        100.000000   61.000000     57.000000   -6.000000   \n",
       "50%    2015.000000        120.000000   74.000000     66.000000   -5.000000   \n",
       "75%    2017.000000        129.000000   82.000000     73.000000   -4.000000   \n",
       "max    2019.000000        206.000000   98.000000     97.000000   -2.000000   \n",
       "\n",
       "         liveness     valence      length  acousticness  speechiness  \\\n",
       "count  603.000000  603.000000  603.000000    603.000000   603.000000   \n",
       "mean    17.774461   52.225539  224.674959     14.326700     8.358209   \n",
       "std     13.102543   22.513020   34.130059     20.766165     7.483162   \n",
       "min      0.000000    0.000000  134.000000      0.000000     0.000000   \n",
       "25%      9.000000   35.000000  202.000000      2.000000     4.000000   \n",
       "50%     12.000000   52.000000  221.000000      6.000000     5.000000   \n",
       "75%     24.000000   69.000000  239.500000     17.000000     9.000000   \n",
       "max     74.000000   98.000000  424.000000     99.000000    48.000000   \n",
       "\n",
       "       popularity  \n",
       "count  603.000000  \n",
       "mean    66.520730  \n",
       "std     14.517746  \n",
       "min      0.000000  \n",
       "25%     60.000000  \n",
       "50%     69.000000  \n",
       "75%     76.000000  \n",
       "max     99.000000  "
      ]
     },
     "execution_count": 49,
     "metadata": {},
     "output_type": "execute_result"
    }
   ],
   "source": [
    "spotify.describe()"
   ]
  },
  {
   "cell_type": "markdown",
   "metadata": {},
   "source": [
    "#### ------------------------------------------------------------------------------------\n",
    "#### Looking at the Minimum value of column popularity which is zero, and songs mentioned are very popular.\n",
    "#### Lets check the rows with zero popularity "
   ]
  },
  {
   "cell_type": "code",
   "execution_count": 50,
   "metadata": {},
   "outputs": [
    {
     "data": {
      "text/html": [
       "<div>\n",
       "<style scoped>\n",
       "    .dataframe tbody tr th:only-of-type {\n",
       "        vertical-align: middle;\n",
       "    }\n",
       "\n",
       "    .dataframe tbody tr th {\n",
       "        vertical-align: top;\n",
       "    }\n",
       "\n",
       "    .dataframe thead th {\n",
       "        text-align: right;\n",
       "    }\n",
       "</style>\n",
       "<table border=\"1\" class=\"dataframe\">\n",
       "  <thead>\n",
       "    <tr style=\"text-align: right;\">\n",
       "      <th></th>\n",
       "      <th>song</th>\n",
       "      <th>artist</th>\n",
       "      <th>genre</th>\n",
       "      <th>year</th>\n",
       "      <th>beats_per_minute</th>\n",
       "      <th>energy</th>\n",
       "      <th>danceability</th>\n",
       "      <th>loudness</th>\n",
       "      <th>liveness</th>\n",
       "      <th>valence</th>\n",
       "      <th>length</th>\n",
       "      <th>acousticness</th>\n",
       "      <th>speechiness</th>\n",
       "      <th>popularity</th>\n",
       "    </tr>\n",
       "  </thead>\n",
       "  <tbody>\n",
       "    <tr>\n",
       "      <th>50</th>\n",
       "      <td>Hello</td>\n",
       "      <td>Martin Solveig</td>\n",
       "      <td>big room</td>\n",
       "      <td>2010</td>\n",
       "      <td>128</td>\n",
       "      <td>98</td>\n",
       "      <td>67</td>\n",
       "      <td>-3</td>\n",
       "      <td>10</td>\n",
       "      <td>45</td>\n",
       "      <td>191</td>\n",
       "      <td>1</td>\n",
       "      <td>3</td>\n",
       "      <td>0</td>\n",
       "    </tr>\n",
       "    <tr>\n",
       "      <th>138</th>\n",
       "      <td>Blow Me (One Last Kiss)</td>\n",
       "      <td>P!nk</td>\n",
       "      <td>dance pop</td>\n",
       "      <td>2012</td>\n",
       "      <td>114</td>\n",
       "      <td>92</td>\n",
       "      <td>60</td>\n",
       "      <td>-3</td>\n",
       "      <td>25</td>\n",
       "      <td>75</td>\n",
       "      <td>256</td>\n",
       "      <td>0</td>\n",
       "      <td>4</td>\n",
       "      <td>0</td>\n",
       "    </tr>\n",
       "    <tr>\n",
       "      <th>267</th>\n",
       "      <td>Not a Bad Thing</td>\n",
       "      <td>Justin Timberlake</td>\n",
       "      <td>dance pop</td>\n",
       "      <td>2014</td>\n",
       "      <td>86</td>\n",
       "      <td>73</td>\n",
       "      <td>59</td>\n",
       "      <td>-6</td>\n",
       "      <td>38</td>\n",
       "      <td>46</td>\n",
       "      <td>266</td>\n",
       "      <td>27</td>\n",
       "      <td>6</td>\n",
       "      <td>0</td>\n",
       "    </tr>\n",
       "    <tr>\n",
       "      <th>362</th>\n",
       "      <td>L.A.LOVE (la la)</td>\n",
       "      <td>Fergie</td>\n",
       "      <td>dance pop</td>\n",
       "      <td>2015</td>\n",
       "      <td>202</td>\n",
       "      <td>39</td>\n",
       "      <td>48</td>\n",
       "      <td>-8</td>\n",
       "      <td>26</td>\n",
       "      <td>27</td>\n",
       "      <td>193</td>\n",
       "      <td>2</td>\n",
       "      <td>9</td>\n",
       "      <td>0</td>\n",
       "    </tr>\n",
       "    <tr>\n",
       "      <th>442</th>\n",
       "      <td>Million Years Ago</td>\n",
       "      <td>Adele</td>\n",
       "      <td>british soul</td>\n",
       "      <td>2016</td>\n",
       "      <td>0</td>\n",
       "      <td>0</td>\n",
       "      <td>0</td>\n",
       "      <td>-60</td>\n",
       "      <td>0</td>\n",
       "      <td>0</td>\n",
       "      <td>227</td>\n",
       "      <td>0</td>\n",
       "      <td>0</td>\n",
       "      <td>0</td>\n",
       "    </tr>\n",
       "  </tbody>\n",
       "</table>\n",
       "</div>"
      ],
      "text/plain": [
       "                        song             artist         genre  year  \\\n",
       "50                     Hello     Martin Solveig      big room  2010   \n",
       "138  Blow Me (One Last Kiss)               P!nk     dance pop  2012   \n",
       "267          Not a Bad Thing  Justin Timberlake     dance pop  2014   \n",
       "362         L.A.LOVE (la la)             Fergie     dance pop  2015   \n",
       "442        Million Years Ago              Adele  british soul  2016   \n",
       "\n",
       "     beats_per_minute  energy  danceability  loudness  liveness  valence  \\\n",
       "50                128      98            67        -3        10       45   \n",
       "138               114      92            60        -3        25       75   \n",
       "267                86      73            59        -6        38       46   \n",
       "362               202      39            48        -8        26       27   \n",
       "442                 0       0             0       -60         0        0   \n",
       "\n",
       "     length  acousticness  speechiness  popularity  \n",
       "50      191             1            3           0  \n",
       "138     256             0            4           0  \n",
       "267     266            27            6           0  \n",
       "362     193             2            9           0  \n",
       "442     227             0            0           0  "
      ]
     },
     "execution_count": 50,
     "metadata": {},
     "output_type": "execute_result"
    }
   ],
   "source": [
    "spotify.loc[spotify['popularity']==0]"
   ]
  },
  {
   "cell_type": "code",
   "execution_count": 51,
   "metadata": {},
   "outputs": [
    {
     "name": "stdout",
     "output_type": "stream",
     "text": [
      "Count of number of rows with zero popularity is  5 .These rows will be removed from master dataframe\n"
     ]
    }
   ],
   "source": [
    "print(\"Count of number of rows with zero popularity is \" , len(spotify.loc[spotify['popularity']==0]), '.These rows'\n",
    "      ' will be removed from master dataframe')"
   ]
  },
  {
   "cell_type": "code",
   "execution_count": 52,
   "metadata": {},
   "outputs": [],
   "source": [
    "## Deleting the mentioned 5 rows\n",
    "spotify = spotify.drop(spotify.index[[50, 138, 267, 362, 442]])"
   ]
  },
  {
   "cell_type": "code",
   "execution_count": 53,
   "metadata": {},
   "outputs": [
    {
     "data": {
      "text/html": [
       "<div>\n",
       "<style scoped>\n",
       "    .dataframe tbody tr th:only-of-type {\n",
       "        vertical-align: middle;\n",
       "    }\n",
       "\n",
       "    .dataframe tbody tr th {\n",
       "        vertical-align: top;\n",
       "    }\n",
       "\n",
       "    .dataframe thead th {\n",
       "        text-align: right;\n",
       "    }\n",
       "</style>\n",
       "<table border=\"1\" class=\"dataframe\">\n",
       "  <thead>\n",
       "    <tr style=\"text-align: right;\">\n",
       "      <th></th>\n",
       "      <th>song</th>\n",
       "      <th>artist</th>\n",
       "      <th>genre</th>\n",
       "      <th>year</th>\n",
       "      <th>beats_per_minute</th>\n",
       "      <th>energy</th>\n",
       "      <th>danceability</th>\n",
       "      <th>loudness</th>\n",
       "      <th>liveness</th>\n",
       "      <th>valence</th>\n",
       "      <th>length</th>\n",
       "      <th>acousticness</th>\n",
       "      <th>speechiness</th>\n",
       "      <th>popularity</th>\n",
       "    </tr>\n",
       "  </thead>\n",
       "  <tbody>\n",
       "    <tr>\n",
       "      <th>0</th>\n",
       "      <td>Hey, Soul Sister</td>\n",
       "      <td>Train</td>\n",
       "      <td>neo mellow</td>\n",
       "      <td>2010</td>\n",
       "      <td>97</td>\n",
       "      <td>89</td>\n",
       "      <td>67</td>\n",
       "      <td>-4</td>\n",
       "      <td>8</td>\n",
       "      <td>80</td>\n",
       "      <td>217</td>\n",
       "      <td>19</td>\n",
       "      <td>4</td>\n",
       "      <td>83</td>\n",
       "    </tr>\n",
       "    <tr>\n",
       "      <th>1</th>\n",
       "      <td>Love The Way You Lie</td>\n",
       "      <td>Eminem</td>\n",
       "      <td>detroit hip hop</td>\n",
       "      <td>2010</td>\n",
       "      <td>87</td>\n",
       "      <td>93</td>\n",
       "      <td>75</td>\n",
       "      <td>-5</td>\n",
       "      <td>52</td>\n",
       "      <td>64</td>\n",
       "      <td>263</td>\n",
       "      <td>24</td>\n",
       "      <td>23</td>\n",
       "      <td>82</td>\n",
       "    </tr>\n",
       "    <tr>\n",
       "      <th>2</th>\n",
       "      <td>TiK ToK</td>\n",
       "      <td>Kesha</td>\n",
       "      <td>dance pop</td>\n",
       "      <td>2010</td>\n",
       "      <td>120</td>\n",
       "      <td>84</td>\n",
       "      <td>76</td>\n",
       "      <td>-3</td>\n",
       "      <td>29</td>\n",
       "      <td>71</td>\n",
       "      <td>200</td>\n",
       "      <td>10</td>\n",
       "      <td>14</td>\n",
       "      <td>80</td>\n",
       "    </tr>\n",
       "    <tr>\n",
       "      <th>3</th>\n",
       "      <td>Bad Romance</td>\n",
       "      <td>Lady Gaga</td>\n",
       "      <td>dance pop</td>\n",
       "      <td>2010</td>\n",
       "      <td>119</td>\n",
       "      <td>92</td>\n",
       "      <td>70</td>\n",
       "      <td>-4</td>\n",
       "      <td>8</td>\n",
       "      <td>71</td>\n",
       "      <td>295</td>\n",
       "      <td>0</td>\n",
       "      <td>4</td>\n",
       "      <td>79</td>\n",
       "    </tr>\n",
       "    <tr>\n",
       "      <th>4</th>\n",
       "      <td>Just the Way You Are</td>\n",
       "      <td>Bruno Mars</td>\n",
       "      <td>pop</td>\n",
       "      <td>2010</td>\n",
       "      <td>109</td>\n",
       "      <td>84</td>\n",
       "      <td>64</td>\n",
       "      <td>-5</td>\n",
       "      <td>9</td>\n",
       "      <td>43</td>\n",
       "      <td>221</td>\n",
       "      <td>2</td>\n",
       "      <td>4</td>\n",
       "      <td>78</td>\n",
       "    </tr>\n",
       "  </tbody>\n",
       "</table>\n",
       "</div>"
      ],
      "text/plain": [
       "                   song      artist            genre  year  beats_per_minute  \\\n",
       "0      Hey, Soul Sister       Train       neo mellow  2010                97   \n",
       "1  Love The Way You Lie      Eminem  detroit hip hop  2010                87   \n",
       "2               TiK ToK       Kesha        dance pop  2010               120   \n",
       "3           Bad Romance   Lady Gaga        dance pop  2010               119   \n",
       "4  Just the Way You Are  Bruno Mars              pop  2010               109   \n",
       "\n",
       "   energy  danceability  loudness  liveness  valence  length  acousticness  \\\n",
       "0      89            67        -4         8       80     217            19   \n",
       "1      93            75        -5        52       64     263            24   \n",
       "2      84            76        -3        29       71     200            10   \n",
       "3      92            70        -4         8       71     295             0   \n",
       "4      84            64        -5         9       43     221             2   \n",
       "\n",
       "   speechiness  popularity  \n",
       "0            4          83  \n",
       "1           23          82  \n",
       "2           14          80  \n",
       "3            4          79  \n",
       "4            4          78  "
      ]
     },
     "execution_count": 53,
     "metadata": {},
     "output_type": "execute_result"
    }
   ],
   "source": [
    "spotify.head()"
   ]
  },
  {
   "cell_type": "markdown",
   "metadata": {},
   "source": [
    "### 2nd Part - EDA and Feature Extraction\n"
   ]
  },
  {
   "cell_type": "markdown",
   "metadata": {},
   "source": [
    "#### 1) How many Songs, Artist and Genres in this dataset\n",
    "#### ----------------------------------------------------------------------------\n",
    "#### Number of Unique songs in Spotify Dataset are  584\n",
    "#### Number of Unique Artist in Spotify Dataset are  184\n",
    "#### Number of Unique Genres in Spotify Dataset are  50"
   ]
  },
  {
   "cell_type": "code",
   "execution_count": 54,
   "metadata": {},
   "outputs": [
    {
     "name": "stdout",
     "output_type": "stream",
     "text": [
      "Number of Unique songs in Spotify Dataset are  580\n",
      "Number of Unique Artist in Spotify Dataset are  183\n",
      "Number of Unique Genres in Spotify Dataset are  50\n"
     ]
    }
   ],
   "source": [
    "number_songs = spotify.song.nunique()\n",
    "number_artist = spotify.artist.nunique()\n",
    "number_genres = spotify.genre.nunique()\n",
    "\n",
    "print(\"Number of Unique songs in Spotify Dataset are \", number_songs)\n",
    "print(\"Number of Unique Artist in Spotify Dataset are \", number_artist)\n",
    "print(\"Number of Unique Genres in Spotify Dataset are \", number_genres)"
   ]
  },
  {
   "cell_type": "markdown",
   "metadata": {},
   "source": [
    "#### 2) Popular Artist\n",
    "\n",
    "#### Artists with most hits are Katy Perry(17 songs) , Justin Bieber(16 songs) , Rihanna & Maroon 5(both 15 songs). "
   ]
  },
  {
   "cell_type": "code",
   "execution_count": 55,
   "metadata": {},
   "outputs": [
    {
     "data": {
      "image/png": "[encoded data removed]",
      "text/plain": [
       "<Figure size 864x864 with 1 Axes>"
      ]
     },
     "metadata": {
      "needs_background": "light"
     },
     "output_type": "display_data"
    }
   ],
   "source": [
    "from matplotlib import rcParams\n",
    "rcParams['figure.figsize'] =12,12\n",
    "\n",
    "sb.countplot(y=spotify['artist'],order=spotify.artist.value_counts().iloc[:10].index);"
   ]
  },
  {
   "cell_type": "markdown",
   "metadata": {},
   "source": [
    "#### 3) Popular Genres with word cloud"
   ]
  },
  {
   "cell_type": "code",
   "execution_count": 62,
   "metadata": {},
   "outputs": [
    {
     "data": {
      "image/png": "[encoded data removed]",
      "text/plain": [
       "<Figure size 720x720 with 1 Axes>"
      ]
     },
     "metadata": {
      "needs_background": "light"
     },
     "output_type": "display_data"
    }
   ],
   "source": [
    "wordcloud = WordCloud(width = 1000, height = 600, max_font_size = 200, max_words = 150,\n",
    "                      background_color='white').generate(\" \".join(spotify.genre))\n",
    "\n",
    "plt.figure(figsize=[10,10])\n",
    "plt.imshow(wordcloud, interpolation='bilinear')\n",
    "plt.axis(\"off\")\n",
    "plt.show()"
   ]
  },
  {
   "cell_type": "markdown",
   "metadata": {},
   "source": [
    "#### 4) Checking Distribution of Numeric Values "
   ]
  },
  {
   "cell_type": "code",
   "execution_count": 63,
   "metadata": {},
   "outputs": [
    {
     "name": "stderr",
     "output_type": "stream",
     "text": [
      "C:\\Users\\DELL\\anaconda3\\lib\\site-packages\\ipykernel_launcher.py:3: UserWarning: To output multiple subplots, the figure containing the passed axes is being cleared\n",
      "  This is separate from the ipykernel package so we can avoid doing imports until\n"
     ]
    },
    {
     "data": {
      "image/png": "[encoded data removed]",
      "text/plain": [
       "<Figure size 864x720 with 12 Axes>"
      ]
     },
     "metadata": {
      "needs_background": "light"
     },
     "output_type": "display_data"
    }
   ],
   "source": [
    "fig = plt.figure(figsize = (12,10))\n",
    "ax = fig.gca()\n",
    "spotify.hist(ax = ax)\n",
    "plt.style.use('ggplot')"
   ]
  },
  {
   "cell_type": "markdown",
   "metadata": {},
   "source": [
    "#### 5) Correlation Heatmap"
   ]
  },
  {
   "cell_type": "code",
   "execution_count": 66,
   "metadata": {},
   "outputs": [
    {
     "data": {
      "text/plain": [
       "<matplotlib.axes._subplots.AxesSubplot at 0x287467f7f08>"
      ]
     },
     "execution_count": 66,
     "metadata": {},
     "output_type": "execute_result"
    },
    {
     "data": {
      "image/png": "[encoded data removed]",
      "text/plain": [
       "<Figure size 720x576 with 2 Axes>"
      ]
     },
     "metadata": {},
     "output_type": "display_data"
    }
   ],
   "source": [
    "# Correlation Heatmap\n",
    "plt.figure(figsize=(10,8))\n",
    "sns.heatmap(spotify.corr(), annot=True,cmap = sns.cm.rocket_r)"
   ]
  },
  {
   "cell_type": "markdown",
   "metadata": {},
   "source": [
    "#### None of the features are corelated, and we can conclude we can use all the features for the model"
   ]
  },
  {
   "cell_type": "code",
   "execution_count": 184,
   "metadata": {},
   "outputs": [],
   "source": [
    "# spotify1 = spotify"
   ]
  },
  {
   "cell_type": "code",
   "execution_count": 201,
   "metadata": {},
   "outputs": [],
   "source": [
    "spotify['genre_numeric'] = spotify['genre'].astype('category').cat.codes"
   ]
  },
  {
   "cell_type": "code",
   "execution_count": 202,
   "metadata": {},
   "outputs": [],
   "source": [
    "spotify['artist_numeric'] = spotify['artist'].astype('category').cat.codes"
   ]
  },
  {
   "cell_type": "code",
   "execution_count": 208,
   "metadata": {},
   "outputs": [
    {
     "data": {
      "text/html": [
       "<div>\n",
       "<style scoped>\n",
       "    .dataframe tbody tr th:only-of-type {\n",
       "        vertical-align: middle;\n",
       "    }\n",
       "\n",
       "    .dataframe tbody tr th {\n",
       "        vertical-align: top;\n",
       "    }\n",
       "\n",
       "    .dataframe thead th {\n",
       "        text-align: right;\n",
       "    }\n",
       "</style>\n",
       "<table border=\"1\" class=\"dataframe\">\n",
       "  <thead>\n",
       "    <tr style=\"text-align: right;\">\n",
       "      <th></th>\n",
       "      <th>song</th>\n",
       "      <th>artist</th>\n",
       "      <th>genre</th>\n",
       "      <th>year</th>\n",
       "      <th>beats_per_minute</th>\n",
       "      <th>energy</th>\n",
       "      <th>danceability</th>\n",
       "      <th>loudness</th>\n",
       "      <th>liveness</th>\n",
       "      <th>valence</th>\n",
       "      <th>length</th>\n",
       "      <th>acousticness</th>\n",
       "      <th>speechiness</th>\n",
       "      <th>popularity</th>\n",
       "      <th>genre_numeric</th>\n",
       "      <th>artist_numeric</th>\n",
       "    </tr>\n",
       "  </thead>\n",
       "  <tbody>\n",
       "    <tr>\n",
       "      <th>0</th>\n",
       "      <td>Hey, Soul Sister</td>\n",
       "      <td>Train</td>\n",
       "      <td>neo mellow</td>\n",
       "      <td>2010</td>\n",
       "      <td>97</td>\n",
       "      <td>89</td>\n",
       "      <td>67</td>\n",
       "      <td>-4</td>\n",
       "      <td>8</td>\n",
       "      <td>80</td>\n",
       "      <td>217</td>\n",
       "      <td>19</td>\n",
       "      <td>4</td>\n",
       "      <td>83</td>\n",
       "      <td>46</td>\n",
       "      <td>174</td>\n",
       "    </tr>\n",
       "    <tr>\n",
       "      <th>1</th>\n",
       "      <td>Love The Way You Lie</td>\n",
       "      <td>Eminem</td>\n",
       "      <td>detroit hip hop</td>\n",
       "      <td>2010</td>\n",
       "      <td>87</td>\n",
       "      <td>93</td>\n",
       "      <td>75</td>\n",
       "      <td>-5</td>\n",
       "      <td>52</td>\n",
       "      <td>64</td>\n",
       "      <td>263</td>\n",
       "      <td>24</td>\n",
       "      <td>23</td>\n",
       "      <td>82</td>\n",
       "      <td>27</td>\n",
       "      <td>49</td>\n",
       "    </tr>\n",
       "    <tr>\n",
       "      <th>2</th>\n",
       "      <td>TiK ToK</td>\n",
       "      <td>Kesha</td>\n",
       "      <td>dance pop</td>\n",
       "      <td>2010</td>\n",
       "      <td>120</td>\n",
       "      <td>84</td>\n",
       "      <td>76</td>\n",
       "      <td>-3</td>\n",
       "      <td>29</td>\n",
       "      <td>71</td>\n",
       "      <td>200</td>\n",
       "      <td>10</td>\n",
       "      <td>14</td>\n",
       "      <td>80</td>\n",
       "      <td>25</td>\n",
       "      <td>89</td>\n",
       "    </tr>\n",
       "    <tr>\n",
       "      <th>3</th>\n",
       "      <td>Bad Romance</td>\n",
       "      <td>Lady Gaga</td>\n",
       "      <td>dance pop</td>\n",
       "      <td>2010</td>\n",
       "      <td>119</td>\n",
       "      <td>92</td>\n",
       "      <td>70</td>\n",
       "      <td>-4</td>\n",
       "      <td>8</td>\n",
       "      <td>71</td>\n",
       "      <td>295</td>\n",
       "      <td>0</td>\n",
       "      <td>4</td>\n",
       "      <td>79</td>\n",
       "      <td>25</td>\n",
       "      <td>94</td>\n",
       "    </tr>\n",
       "    <tr>\n",
       "      <th>4</th>\n",
       "      <td>Just the Way You Are</td>\n",
       "      <td>Bruno Mars</td>\n",
       "      <td>pop</td>\n",
       "      <td>2010</td>\n",
       "      <td>109</td>\n",
       "      <td>84</td>\n",
       "      <td>64</td>\n",
       "      <td>-5</td>\n",
       "      <td>9</td>\n",
       "      <td>43</td>\n",
       "      <td>221</td>\n",
       "      <td>2</td>\n",
       "      <td>4</td>\n",
       "      <td>78</td>\n",
       "      <td>48</td>\n",
       "      <td>19</td>\n",
       "    </tr>\n",
       "  </tbody>\n",
       "</table>\n",
       "</div>"
      ],
      "text/plain": [
       "                   song      artist            genre  year  beats_per_minute  \\\n",
       "0      Hey, Soul Sister       Train       neo mellow  2010                97   \n",
       "1  Love The Way You Lie      Eminem  detroit hip hop  2010                87   \n",
       "2               TiK ToK       Kesha        dance pop  2010               120   \n",
       "3           Bad Romance   Lady Gaga        dance pop  2010               119   \n",
       "4  Just the Way You Are  Bruno Mars              pop  2010               109   \n",
       "\n",
       "   energy  danceability  loudness  liveness  valence  length  acousticness  \\\n",
       "0      89            67        -4         8       80     217            19   \n",
       "1      93            75        -5        52       64     263            24   \n",
       "2      84            76        -3        29       71     200            10   \n",
       "3      92            70        -4         8       71     295             0   \n",
       "4      84            64        -5         9       43     221             2   \n",
       "\n",
       "   speechiness  popularity  genre_numeric  artist_numeric  \n",
       "0            4          83             46             174  \n",
       "1           23          82             27              49  \n",
       "2           14          80             25              89  \n",
       "3            4          79             25              94  \n",
       "4            4          78             48              19  "
      ]
     },
     "execution_count": 208,
     "metadata": {},
     "output_type": "execute_result"
    }
   ],
   "source": [
    "spotify.head()"
   ]
  },
  {
   "cell_type": "code",
   "execution_count": 209,
   "metadata": {},
   "outputs": [],
   "source": [
    "spotify_model = spotify[[\"beats_per_minute\", \"energy\", \"danceability\", \"loudness\", \"liveness\", \"valence\", \"length\",\n",
    "                        \"length\", \"acousticness\", \"speechiness\", \"popularity\", \"genre_numeric\", \"artist_numeric\" ]]"
   ]
  },
  {
   "cell_type": "code",
   "execution_count": 310,
   "metadata": {},
   "outputs": [
    {
     "name": "stderr",
     "output_type": "stream",
     "text": [
      "C:\\Users\\DELL\\anaconda3\\lib\\site-packages\\ipykernel_launcher.py:1: SettingWithCopyWarning: \n",
      "A value is trying to be set on a copy of a slice from a DataFrame.\n",
      "Try using .loc[row_indexer,col_indexer] = value instead\n",
      "\n",
      "See the caveats in the documentation: https://pandas.pydata.org/pandas-docs/stable/user_guide/indexing.html#returning-a-view-versus-a-copy\n",
      "  \"\"\"Entry point for launching an IPython kernel.\n"
     ]
    }
   ],
   "source": [
    "spotify_model['popularity'] = spotify_model['popularity'].astype('float32')"
   ]
  },
  {
   "cell_type": "code",
   "execution_count": 311,
   "metadata": {},
   "outputs": [],
   "source": [
    "spotify_copy = spotify_model.copy()"
   ]
  },
  {
   "cell_type": "code",
   "execution_count": 321,
   "metadata": {},
   "outputs": [],
   "source": [
    "train_dataset = spotify_copy.sample(frac=0.8, random_state=0)\n",
    "test_dataset = spotify_copy.drop(train_dataset.index)"
   ]
  },
  {
   "cell_type": "code",
   "execution_count": 322,
   "metadata": {},
   "outputs": [],
   "source": [
    "train_features = train_dataset.copy()\n",
    "test_features = test_dataset.copy()\n",
    "\n",
    "train_labels = train_features.pop('popularity')\n",
    "test_labels = test_features.pop('popularity')"
   ]
  },
  {
   "cell_type": "code",
   "execution_count": 323,
   "metadata": {},
   "outputs": [
    {
     "data": {
      "text/html": [
       "<div>\n",
       "<style scoped>\n",
       "    .dataframe tbody tr th:only-of-type {\n",
       "        vertical-align: middle;\n",
       "    }\n",
       "\n",
       "    .dataframe tbody tr th {\n",
       "        vertical-align: top;\n",
       "    }\n",
       "\n",
       "    .dataframe thead th {\n",
       "        text-align: right;\n",
       "    }\n",
       "</style>\n",
       "<table border=\"1\" class=\"dataframe\">\n",
       "  <thead>\n",
       "    <tr style=\"text-align: right;\">\n",
       "      <th></th>\n",
       "      <th>mean</th>\n",
       "      <th>std</th>\n",
       "    </tr>\n",
       "  </thead>\n",
       "  <tbody>\n",
       "    <tr>\n",
       "      <th>beats_per_minute</th>\n",
       "      <td>118.933610</td>\n",
       "      <td>23.991937</td>\n",
       "    </tr>\n",
       "    <tr>\n",
       "      <th>energy</th>\n",
       "      <td>70.960581</td>\n",
       "      <td>15.866271</td>\n",
       "    </tr>\n",
       "    <tr>\n",
       "      <th>danceability</th>\n",
       "      <td>64.524896</td>\n",
       "      <td>12.768546</td>\n",
       "    </tr>\n",
       "    <tr>\n",
       "      <th>loudness</th>\n",
       "      <td>-5.468880</td>\n",
       "      <td>1.679046</td>\n",
       "    </tr>\n",
       "    <tr>\n",
       "      <th>liveness</th>\n",
       "      <td>17.788382</td>\n",
       "      <td>13.069176</td>\n",
       "    </tr>\n",
       "    <tr>\n",
       "      <th>valence</th>\n",
       "      <td>52.639004</td>\n",
       "      <td>22.254117</td>\n",
       "    </tr>\n",
       "    <tr>\n",
       "      <th>length</th>\n",
       "      <td>223.792531</td>\n",
       "      <td>33.739594</td>\n",
       "    </tr>\n",
       "    <tr>\n",
       "      <th>length</th>\n",
       "      <td>223.792531</td>\n",
       "      <td>33.739594</td>\n",
       "    </tr>\n",
       "    <tr>\n",
       "      <th>acousticness</th>\n",
       "      <td>14.481328</td>\n",
       "      <td>20.776623</td>\n",
       "    </tr>\n",
       "    <tr>\n",
       "      <th>speechiness</th>\n",
       "      <td>8.531120</td>\n",
       "      <td>7.732002</td>\n",
       "    </tr>\n",
       "    <tr>\n",
       "      <th>popularity</th>\n",
       "      <td>66.595436</td>\n",
       "      <td>14.700053</td>\n",
       "    </tr>\n",
       "    <tr>\n",
       "      <th>genre_numeric</th>\n",
       "      <td>25.840249</td>\n",
       "      <td>10.957364</td>\n",
       "    </tr>\n",
       "    <tr>\n",
       "      <th>artist_numeric</th>\n",
       "      <td>88.126556</td>\n",
       "      <td>53.912366</td>\n",
       "    </tr>\n",
       "  </tbody>\n",
       "</table>\n",
       "</div>"
      ],
      "text/plain": [
       "                        mean        std\n",
       "beats_per_minute  118.933610  23.991937\n",
       "energy             70.960581  15.866271\n",
       "danceability       64.524896  12.768546\n",
       "loudness           -5.468880   1.679046\n",
       "liveness           17.788382  13.069176\n",
       "valence            52.639004  22.254117\n",
       "length            223.792531  33.739594\n",
       "length            223.792531  33.739594\n",
       "acousticness       14.481328  20.776623\n",
       "speechiness         8.531120   7.732002\n",
       "popularity         66.595436  14.700053\n",
       "genre_numeric      25.840249  10.957364\n",
       "artist_numeric     88.126556  53.912366"
      ]
     },
     "execution_count": 323,
     "metadata": {},
     "output_type": "execute_result"
    }
   ],
   "source": [
    "train_dataset.describe().transpose()[['mean', 'std']]"
   ]
  },
  {
   "cell_type": "code",
   "execution_count": 324,
   "metadata": {},
   "outputs": [],
   "source": [
    "from tensorflow.keras.layers.experimental import preprocessing\n",
    "normalizer = preprocessing.Normalization()"
   ]
  },
  {
   "cell_type": "code",
   "execution_count": 325,
   "metadata": {},
   "outputs": [],
   "source": [
    "normalizer.adapt(np.array(train_features))"
   ]
  },
  {
   "cell_type": "code",
   "execution_count": 326,
   "metadata": {},
   "outputs": [
    {
     "data": {
      "text/html": [
       "<div>\n",
       "<style scoped>\n",
       "    .dataframe tbody tr th:only-of-type {\n",
       "        vertical-align: middle;\n",
       "    }\n",
       "\n",
       "    .dataframe tbody tr th {\n",
       "        vertical-align: top;\n",
       "    }\n",
       "\n",
       "    .dataframe thead th {\n",
       "        text-align: right;\n",
       "    }\n",
       "</style>\n",
       "<table border=\"1\" class=\"dataframe\">\n",
       "  <thead>\n",
       "    <tr style=\"text-align: right;\">\n",
       "      <th></th>\n",
       "      <th>beats_per_minute</th>\n",
       "      <th>energy</th>\n",
       "      <th>danceability</th>\n",
       "      <th>loudness</th>\n",
       "      <th>liveness</th>\n",
       "      <th>valence</th>\n",
       "      <th>length</th>\n",
       "      <th>length</th>\n",
       "      <th>acousticness</th>\n",
       "      <th>speechiness</th>\n",
       "      <th>genre_numeric</th>\n",
       "      <th>artist_numeric</th>\n",
       "    </tr>\n",
       "  </thead>\n",
       "  <tbody>\n",
       "    <tr>\n",
       "      <th>272</th>\n",
       "      <td>115</td>\n",
       "      <td>61</td>\n",
       "      <td>86</td>\n",
       "      <td>-7</td>\n",
       "      <td>3</td>\n",
       "      <td>93</td>\n",
       "      <td>270</td>\n",
       "      <td>270</td>\n",
       "      <td>1</td>\n",
       "      <td>8</td>\n",
       "      <td>25</td>\n",
       "      <td>113</td>\n",
       "    </tr>\n",
       "    <tr>\n",
       "      <th>52</th>\n",
       "      <td>135</td>\n",
       "      <td>33</td>\n",
       "      <td>56</td>\n",
       "      <td>-8</td>\n",
       "      <td>10</td>\n",
       "      <td>28</td>\n",
       "      <td>285</td>\n",
       "      <td>285</td>\n",
       "      <td>89</td>\n",
       "      <td>3</td>\n",
       "      <td>13</td>\n",
       "      <td>4</td>\n",
       "    </tr>\n",
       "    <tr>\n",
       "      <th>479</th>\n",
       "      <td>124</td>\n",
       "      <td>88</td>\n",
       "      <td>69</td>\n",
       "      <td>-4</td>\n",
       "      <td>15</td>\n",
       "      <td>49</td>\n",
       "      <td>192</td>\n",
       "      <td>192</td>\n",
       "      <td>4</td>\n",
       "      <td>6</td>\n",
       "      <td>31</td>\n",
       "      <td>5</td>\n",
       "    </tr>\n",
       "    <tr>\n",
       "      <th>194</th>\n",
       "      <td>107</td>\n",
       "      <td>66</td>\n",
       "      <td>59</td>\n",
       "      <td>-5</td>\n",
       "      <td>64</td>\n",
       "      <td>33</td>\n",
       "      <td>353</td>\n",
       "      <td>353</td>\n",
       "      <td>4</td>\n",
       "      <td>16</td>\n",
       "      <td>25</td>\n",
       "      <td>84</td>\n",
       "    </tr>\n",
       "    <tr>\n",
       "      <th>345</th>\n",
       "      <td>89</td>\n",
       "      <td>59</td>\n",
       "      <td>48</td>\n",
       "      <td>-6</td>\n",
       "      <td>6</td>\n",
       "      <td>27</td>\n",
       "      <td>309</td>\n",
       "      <td>309</td>\n",
       "      <td>20</td>\n",
       "      <td>5</td>\n",
       "      <td>48</td>\n",
       "      <td>46</td>\n",
       "    </tr>\n",
       "    <tr>\n",
       "      <th>...</th>\n",
       "      <td>...</td>\n",
       "      <td>...</td>\n",
       "      <td>...</td>\n",
       "      <td>...</td>\n",
       "      <td>...</td>\n",
       "      <td>...</td>\n",
       "      <td>...</td>\n",
       "      <td>...</td>\n",
       "      <td>...</td>\n",
       "      <td>...</td>\n",
       "      <td>...</td>\n",
       "      <td>...</td>\n",
       "    </tr>\n",
       "    <tr>\n",
       "      <th>352</th>\n",
       "      <td>117</td>\n",
       "      <td>43</td>\n",
       "      <td>26</td>\n",
       "      <td>-11</td>\n",
       "      <td>11</td>\n",
       "      <td>9</td>\n",
       "      <td>225</td>\n",
       "      <td>225</td>\n",
       "      <td>75</td>\n",
       "      <td>3</td>\n",
       "      <td>3</td>\n",
       "      <td>55</td>\n",
       "    </tr>\n",
       "    <tr>\n",
       "      <th>270</th>\n",
       "      <td>113</td>\n",
       "      <td>56</td>\n",
       "      <td>58</td>\n",
       "      <td>-7</td>\n",
       "      <td>14</td>\n",
       "      <td>14</td>\n",
       "      <td>242</td>\n",
       "      <td>242</td>\n",
       "      <td>7</td>\n",
       "      <td>5</td>\n",
       "      <td>15</td>\n",
       "      <td>171</td>\n",
       "    </tr>\n",
       "    <tr>\n",
       "      <th>317</th>\n",
       "      <td>123</td>\n",
       "      <td>94</td>\n",
       "      <td>69</td>\n",
       "      <td>-5</td>\n",
       "      <td>5</td>\n",
       "      <td>79</td>\n",
       "      <td>235</td>\n",
       "      <td>235</td>\n",
       "      <td>9</td>\n",
       "      <td>6</td>\n",
       "      <td>25</td>\n",
       "      <td>141</td>\n",
       "    </tr>\n",
       "    <tr>\n",
       "      <th>323</th>\n",
       "      <td>100</td>\n",
       "      <td>88</td>\n",
       "      <td>67</td>\n",
       "      <td>-6</td>\n",
       "      <td>44</td>\n",
       "      <td>79</td>\n",
       "      <td>211</td>\n",
       "      <td>211</td>\n",
       "      <td>27</td>\n",
       "      <td>24</td>\n",
       "      <td>25</td>\n",
       "      <td>10</td>\n",
       "    </tr>\n",
       "    <tr>\n",
       "      <th>545</th>\n",
       "      <td>168</td>\n",
       "      <td>57</td>\n",
       "      <td>46</td>\n",
       "      <td>-6</td>\n",
       "      <td>10</td>\n",
       "      <td>19</td>\n",
       "      <td>185</td>\n",
       "      <td>185</td>\n",
       "      <td>24</td>\n",
       "      <td>5</td>\n",
       "      <td>25</td>\n",
       "      <td>179</td>\n",
       "    </tr>\n",
       "  </tbody>\n",
       "</table>\n",
       "<p>482 rows × 12 columns</p>\n",
       "</div>"
      ],
      "text/plain": [
       "     beats_per_minute  energy  danceability  loudness  liveness  valence  \\\n",
       "272               115      61            86        -7         3       93   \n",
       "52                135      33            56        -8        10       28   \n",
       "479               124      88            69        -4        15       49   \n",
       "194               107      66            59        -5        64       33   \n",
       "345                89      59            48        -6         6       27   \n",
       "..                ...     ...           ...       ...       ...      ...   \n",
       "352               117      43            26       -11        11        9   \n",
       "270               113      56            58        -7        14       14   \n",
       "317               123      94            69        -5         5       79   \n",
       "323               100      88            67        -6        44       79   \n",
       "545               168      57            46        -6        10       19   \n",
       "\n",
       "     length  length  acousticness  speechiness  genre_numeric  artist_numeric  \n",
       "272     270     270             1            8             25             113  \n",
       "52      285     285            89            3             13               4  \n",
       "479     192     192             4            6             31               5  \n",
       "194     353     353             4           16             25              84  \n",
       "345     309     309            20            5             48              46  \n",
       "..      ...     ...           ...          ...            ...             ...  \n",
       "352     225     225            75            3              3              55  \n",
       "270     242     242             7            5             15             171  \n",
       "317     235     235             9            6             25             141  \n",
       "323     211     211            27           24             25              10  \n",
       "545     185     185            24            5             25             179  \n",
       "\n",
       "[482 rows x 12 columns]"
      ]
     },
     "execution_count": 326,
     "metadata": {},
     "output_type": "execute_result"
    }
   ],
   "source": [
    "train_features"
   ]
  },
  {
   "cell_type": "code",
   "execution_count": 327,
   "metadata": {},
   "outputs": [
    {
     "name": "stdout",
     "output_type": "stream",
     "text": [
      "[118.93361    70.96058    64.524895   -5.4688797  17.788382   52.639004\n",
      " 223.79253   223.79253    14.481328    8.53112    25.840248   88.12656  ]\n"
     ]
    }
   ],
   "source": [
    "print(normalizer.mean.numpy())"
   ]
  },
  {
   "cell_type": "code",
   "execution_count": 328,
   "metadata": {
    "scrolled": true
   },
   "outputs": [
    {
     "name": "stdout",
     "output_type": "stream",
     "text": [
      "First example: [[115  61  86  -7   3  93 270 270   1   8  25 113]]\n",
      "\n",
      "Normalized: [[-0.16 -0.63  1.68 -0.91 -1.13  1.82  1.37  1.37 -0.65 -0.07 -0.08  0.46]]\n"
     ]
    }
   ],
   "source": [
    "first = np.array(train_features[:1])\n",
    "\n",
    "with np.printoptions(precision=2, suppress=True):\n",
    "    print('First example:', first)\n",
    "    print()\n",
    "    print('Normalized:', normalizer(first).numpy())"
   ]
  },
  {
   "cell_type": "code",
   "execution_count": 329,
   "metadata": {},
   "outputs": [],
   "source": [
    "from tensorflow import keras\n",
    "from tensorflow.keras import backend as K\n",
    "#defining the loss function\n",
    "def rmse(y_true, y_pred):\n",
    "    #difference between true label and predicted label\n",
    "    error = y_true-y_pred    \n",
    "    #square of the error\n",
    "    sqr_error = K.square(error)\n",
    "    #mean of the square of the error\n",
    "    mean_sqr_error = K.mean(sqr_error)\n",
    "    #square root of the mean of the square of the error\n",
    "    sqrt_mean_sqr_error = K.sqrt(mean_sqr_error)\n",
    "    #return the error\n",
    "    return sqrt_mean_sqr_error"
   ]
  },
  {
   "cell_type": "code",
   "execution_count": 330,
   "metadata": {},
   "outputs": [],
   "source": [
    "def build_and_compile_model(norm):\n",
    "    model = keras.Sequential([\n",
    "      norm,\n",
    "      layers.Dense(64, activation='relu'),\n",
    "      layers.Dense(64, activation='relu'),\n",
    "      layers.Dense(1)\n",
    "  ])\n",
    "\n",
    "    model.compile(loss=rmse,\n",
    "                optimizer=tf.keras.optimizers.Adam(0.001))\n",
    "    return model\n"
   ]
  },
  {
   "cell_type": "code",
   "execution_count": 336,
   "metadata": {},
   "outputs": [
    {
     "name": "stdout",
     "output_type": "stream",
     "text": [
      "Model: \"sequential_10\"\n",
      "_________________________________________________________________\n",
      "Layer (type)                 Output Shape              Param #   \n",
      "=================================================================\n",
      "normalization_4 (Normalizati (None, 12)                25        \n",
      "_________________________________________________________________\n",
      "dense_30 (Dense)             (None, 64)                832       \n",
      "_________________________________________________________________\n",
      "dense_31 (Dense)             (None, 64)                4160      \n",
      "_________________________________________________________________\n",
      "dense_32 (Dense)             (None, 1)                 65        \n",
      "=================================================================\n",
      "Total params: 5,082\n",
      "Trainable params: 5,057\n",
      "Non-trainable params: 25\n",
      "_________________________________________________________________\n"
     ]
    }
   ],
   "source": [
    "import tensorflow as tf\n",
    "\n",
    "from tensorflow import keras\n",
    "from tensorflow.keras import layers\n",
    "from tensorflow.keras.layers.experimental import preprocessing\n",
    "    \n",
    "dnn_model = build_and_compile_model(normalizer)\n",
    "dnn_model.summary()"
   ]
  },
  {
   "cell_type": "code",
   "execution_count": 340,
   "metadata": {},
   "outputs": [],
   "source": [
    "def plot_loss(history):\n",
    "    plt.plot(history.history['loss'], label='loss')\n",
    "    plt.plot(history.history['val_loss'], label='val_loss')\n",
    "    plt.ylim([0, 30])\n",
    "    plt.xlabel('Epoch')\n",
    "    plt.ylabel('Error [Popularity]')\n",
    "    plt.legend()\n",
    "    plt.grid(True)"
   ]
  },
  {
   "cell_type": "code",
   "execution_count": 338,
   "metadata": {},
   "outputs": [
    {
     "name": "stdout",
     "output_type": "stream",
     "text": [
      "Epoch 1/100\n",
      "11/11 - 1s - loss: 67.7500 - val_loss: 68.0493\n",
      "Epoch 2/100\n",
      "11/11 - 0s - loss: 66.8760 - val_loss: 67.1615\n",
      "Epoch 3/100\n",
      "11/11 - 0s - loss: 65.8322 - val_loss: 66.0410\n",
      "Epoch 4/100\n",
      "11/11 - 0s - loss: 64.5181 - val_loss: 64.5263\n",
      "Epoch 5/100\n",
      "11/11 - 0s - loss: 62.7476 - val_loss: 62.4909\n",
      "Epoch 6/100\n",
      "11/11 - 0s - loss: 60.3253 - val_loss: 59.8354\n",
      "Epoch 7/100\n",
      "11/11 - 0s - loss: 57.2534 - val_loss: 56.4044\n",
      "Epoch 8/100\n",
      "11/11 - 0s - loss: 53.3116 - val_loss: 52.0607\n",
      "Epoch 9/100\n",
      "11/11 - 0s - loss: 48.4187 - val_loss: 46.7607\n",
      "Epoch 10/100\n",
      "11/11 - 0s - loss: 42.6287 - val_loss: 40.5122\n",
      "Epoch 11/100\n",
      "11/11 - 0s - loss: 36.0388 - val_loss: 33.7078\n",
      "Epoch 12/100\n",
      "11/11 - 0s - loss: 29.3504 - val_loss: 27.3349\n",
      "Epoch 13/100\n",
      "11/11 - 1s - loss: 24.3809 - val_loss: 23.1069\n",
      "Epoch 14/100\n",
      "11/11 - 0s - loss: 21.6968 - val_loss: 21.6991\n",
      "Epoch 15/100\n",
      "11/11 - 0s - loss: 20.6925 - val_loss: 21.3605\n",
      "Epoch 16/100\n",
      "11/11 - 0s - loss: 19.7263 - val_loss: 21.1087\n",
      "Epoch 17/100\n",
      "11/11 - 0s - loss: 19.0544 - val_loss: 20.8314\n",
      "Epoch 18/100\n",
      "11/11 - 0s - loss: 18.7542 - val_loss: 20.4472\n",
      "Epoch 19/100\n",
      "11/11 - 0s - loss: 18.1637 - val_loss: 20.2339\n",
      "Epoch 20/100\n",
      "11/11 - 0s - loss: 17.9485 - val_loss: 20.0336\n",
      "Epoch 21/100\n",
      "11/11 - 0s - loss: 17.6163 - val_loss: 19.8115\n",
      "Epoch 22/100\n",
      "11/11 - 0s - loss: 17.5074 - val_loss: 19.5997\n",
      "Epoch 23/100\n",
      "11/11 - 0s - loss: 17.0454 - val_loss: 19.3766\n",
      "Epoch 24/100\n",
      "11/11 - 0s - loss: 16.9183 - val_loss: 19.3087\n",
      "Epoch 25/100\n",
      "11/11 - 0s - loss: 16.7626 - val_loss: 19.2228\n",
      "Epoch 26/100\n",
      "11/11 - 0s - loss: 16.5110 - val_loss: 19.1613\n",
      "Epoch 27/100\n",
      "11/11 - 0s - loss: 16.4988 - val_loss: 18.9845\n",
      "Epoch 28/100\n",
      "11/11 - 0s - loss: 16.3262 - val_loss: 18.7810\n",
      "Epoch 29/100\n",
      "11/11 - 0s - loss: 16.0562 - val_loss: 18.7087\n",
      "Epoch 30/100\n",
      "11/11 - 0s - loss: 15.9824 - val_loss: 18.6371\n",
      "Epoch 31/100\n",
      "11/11 - 0s - loss: 15.7635 - val_loss: 18.5054\n",
      "Epoch 32/100\n",
      "11/11 - 0s - loss: 15.6608 - val_loss: 18.5058\n",
      "Epoch 33/100\n",
      "11/11 - 0s - loss: 15.6531 - val_loss: 18.5372\n",
      "Epoch 34/100\n",
      "11/11 - 0s - loss: 15.4179 - val_loss: 18.4213\n",
      "Epoch 35/100\n",
      "11/11 - 0s - loss: 15.3147 - val_loss: 18.2862\n",
      "Epoch 36/100\n",
      "11/11 - 0s - loss: 15.2248 - val_loss: 18.2612\n",
      "Epoch 37/100\n",
      "11/11 - 0s - loss: 15.2145 - val_loss: 18.0685\n",
      "Epoch 38/100\n",
      "11/11 - 0s - loss: 15.0236 - val_loss: 18.0792\n",
      "Epoch 39/100\n",
      "11/11 - 0s - loss: 14.9014 - val_loss: 18.0326\n",
      "Epoch 40/100\n",
      "11/11 - 0s - loss: 14.8436 - val_loss: 18.0667\n",
      "Epoch 41/100\n",
      "11/11 - 0s - loss: 14.7792 - val_loss: 18.0448\n",
      "Epoch 42/100\n",
      "11/11 - 0s - loss: 14.4142 - val_loss: 17.9466\n",
      "Epoch 43/100\n",
      "11/11 - 0s - loss: 14.6521 - val_loss: 17.8959\n",
      "Epoch 44/100\n",
      "11/11 - 0s - loss: 14.5550 - val_loss: 17.8853\n",
      "Epoch 45/100\n",
      "11/11 - 0s - loss: 14.3802 - val_loss: 17.8986\n",
      "Epoch 46/100\n",
      "11/11 - 0s - loss: 14.3065 - val_loss: 17.9219\n",
      "Epoch 47/100\n",
      "11/11 - 0s - loss: 14.2504 - val_loss: 17.8494\n",
      "Epoch 48/100\n",
      "11/11 - 0s - loss: 14.3404 - val_loss: 17.8735\n",
      "Epoch 49/100\n",
      "11/11 - 0s - loss: 14.2226 - val_loss: 17.7595\n",
      "Epoch 50/100\n",
      "11/11 - 0s - loss: 14.1573 - val_loss: 17.6753\n",
      "Epoch 51/100\n",
      "11/11 - 0s - loss: 14.0323 - val_loss: 17.6935\n",
      "Epoch 52/100\n",
      "11/11 - 0s - loss: 14.0458 - val_loss: 17.7036\n",
      "Epoch 53/100\n",
      "11/11 - 1s - loss: 13.8285 - val_loss: 17.6606\n",
      "Epoch 54/100\n",
      "11/11 - 0s - loss: 13.8689 - val_loss: 17.5991\n",
      "Epoch 55/100\n",
      "11/11 - 0s - loss: 13.6574 - val_loss: 17.5650\n",
      "Epoch 56/100\n",
      "11/11 - 0s - loss: 13.6907 - val_loss: 17.6309\n",
      "Epoch 57/100\n",
      "11/11 - 0s - loss: 13.6505 - val_loss: 17.5181\n",
      "Epoch 58/100\n",
      "11/11 - 0s - loss: 13.5706 - val_loss: 17.4803\n",
      "Epoch 59/100\n",
      "11/11 - 0s - loss: 13.3321 - val_loss: 17.4756\n",
      "Epoch 60/100\n",
      "11/11 - 0s - loss: 13.3822 - val_loss: 17.4669\n",
      "Epoch 61/100\n",
      "11/11 - 0s - loss: 13.4619 - val_loss: 17.5384\n",
      "Epoch 62/100\n",
      "11/11 - 0s - loss: 13.3048 - val_loss: 17.4675\n",
      "Epoch 63/100\n",
      "11/11 - 0s - loss: 13.2938 - val_loss: 17.3600\n",
      "Epoch 64/100\n",
      "11/11 - 0s - loss: 13.2991 - val_loss: 17.3399\n",
      "Epoch 65/100\n",
      "11/11 - 0s - loss: 13.3037 - val_loss: 17.4333\n",
      "Epoch 66/100\n",
      "11/11 - 0s - loss: 12.9964 - val_loss: 17.3893\n",
      "Epoch 67/100\n",
      "11/11 - 0s - loss: 13.2138 - val_loss: 17.3630\n",
      "Epoch 68/100\n",
      "11/11 - 0s - loss: 13.0348 - val_loss: 17.2666\n",
      "Epoch 69/100\n",
      "11/11 - 0s - loss: 12.9650 - val_loss: 17.3166\n",
      "Epoch 70/100\n",
      "11/11 - 0s - loss: 12.9746 - val_loss: 17.3002\n",
      "Epoch 71/100\n",
      "11/11 - 0s - loss: 12.9502 - val_loss: 17.4469\n",
      "Epoch 72/100\n",
      "11/11 - 0s - loss: 12.7926 - val_loss: 17.3870\n",
      "Epoch 73/100\n",
      "11/11 - 0s - loss: 12.8308 - val_loss: 17.2574\n",
      "Epoch 74/100\n",
      "11/11 - 0s - loss: 12.8662 - val_loss: 17.2575\n",
      "Epoch 75/100\n",
      "11/11 - 0s - loss: 12.8643 - val_loss: 17.3684\n",
      "Epoch 76/100\n",
      "11/11 - 0s - loss: 12.7773 - val_loss: 17.2578\n",
      "Epoch 77/100\n",
      "11/11 - 0s - loss: 12.7035 - val_loss: 17.2718\n",
      "Epoch 78/100\n",
      "11/11 - 0s - loss: 12.6489 - val_loss: 17.2085\n",
      "Epoch 79/100\n",
      "11/11 - 0s - loss: 12.5241 - val_loss: 17.2201\n",
      "Epoch 80/100\n",
      "11/11 - 0s - loss: 12.5810 - val_loss: 17.1344\n",
      "Epoch 81/100\n",
      "11/11 - 0s - loss: 12.5073 - val_loss: 17.1517\n",
      "Epoch 82/100\n",
      "11/11 - 0s - loss: 12.5035 - val_loss: 17.2134\n",
      "Epoch 83/100\n",
      "11/11 - 0s - loss: 12.5065 - val_loss: 17.3039\n",
      "Epoch 84/100\n",
      "11/11 - 0s - loss: 12.3979 - val_loss: 17.1542\n",
      "Epoch 85/100\n",
      "11/11 - 0s - loss: 12.2677 - val_loss: 17.0998\n",
      "Epoch 86/100\n",
      "11/11 - 0s - loss: 12.3749 - val_loss: 17.2771\n",
      "Epoch 87/100\n",
      "11/11 - 0s - loss: 12.3029 - val_loss: 17.2057\n",
      "Epoch 88/100\n",
      "11/11 - 0s - loss: 12.3491 - val_loss: 17.3075\n",
      "Epoch 89/100\n",
      "11/11 - 0s - loss: 12.1712 - val_loss: 17.2115\n",
      "Epoch 90/100\n",
      "11/11 - 0s - loss: 12.1165 - val_loss: 17.2071\n",
      "Epoch 91/100\n",
      "11/11 - 0s - loss: 12.0825 - val_loss: 17.2099\n",
      "Epoch 92/100\n",
      "11/11 - 0s - loss: 12.1945 - val_loss: 17.1730\n",
      "Epoch 93/100\n",
      "11/11 - 0s - loss: 12.0380 - val_loss: 17.1499\n",
      "Epoch 94/100\n",
      "11/11 - 0s - loss: 12.0229 - val_loss: 17.2287\n",
      "Epoch 95/100\n",
      "11/11 - 0s - loss: 11.6656 - val_loss: 17.1952\n",
      "Epoch 96/100\n",
      "11/11 - 0s - loss: 11.9854 - val_loss: 17.2109\n",
      "Epoch 97/100\n",
      "11/11 - 0s - loss: 11.9296 - val_loss: 17.1445\n",
      "Epoch 98/100\n",
      "11/11 - 0s - loss: 11.7617 - val_loss: 17.1238\n",
      "Epoch 99/100\n",
      "11/11 - 0s - loss: 11.8714 - val_loss: 17.1439\n",
      "Epoch 100/100\n",
      "11/11 - 0s - loss: 11.8499 - val_loss: 17.1862\n",
      "Wall time: 15.2 s\n"
     ]
    }
   ],
   "source": [
    "%%time\n",
    "history = dnn_model.fit(\n",
    "    train_features, train_labels,\n",
    "    validation_split=0.3,\n",
    "    verbose=2, epochs=100)"
   ]
  },
  {
   "cell_type": "code",
   "execution_count": 341,
   "metadata": {},
   "outputs": [
    {
     "data": {
      "image/png": "[encoded data removed]",
      "text/plain": [
       "<Figure size 864x864 with 1 Axes>"
      ]
     },
     "metadata": {},
     "output_type": "display_data"
    }
   ],
   "source": [
    "plot_loss(history)"
   ]
  },
  {
   "cell_type": "code",
   "execution_count": 342,
   "metadata": {},
   "outputs": [
    {
     "name": "stdout",
     "output_type": "stream",
     "text": [
      "4/4 - 0s - loss: 23.6909\n"
     ]
    }
   ],
   "source": [
    "result = dnn_model.evaluate(test_features, test_labels, verbose=2)"
   ]
  },
  {
   "cell_type": "code",
   "execution_count": 343,
   "metadata": {},
   "outputs": [
    {
     "data": {
      "text/plain": [
       "23.69089698791504"
      ]
     },
     "execution_count": 343,
     "metadata": {},
     "output_type": "execute_result"
    }
   ],
   "source": [
    "result"
   ]
  },
  {
   "cell_type": "code",
   "execution_count": 344,
   "metadata": {},
   "outputs": [],
   "source": [
    "test_predictions = dnn_model.predict(test_features).flatten()"
   ]
  },
  {
   "cell_type": "code",
   "execution_count": 345,
   "metadata": {},
   "outputs": [
    {
     "data": {
      "image/png": "[encoded data removed]",
      "text/plain": [
       "<Figure size 864x864 with 1 Axes>"
      ]
     },
     "metadata": {},
     "output_type": "display_data"
    }
   ],
   "source": [
    "a = plt.axes(aspect='equal')\n",
    "plt.scatter(test_labels, test_predictions)\n",
    "plt.xlabel('True Values')\n",
    "plt.ylabel('Predictions')\n",
    "lims = [0, 100]\n",
    "plt.xlim(lims)\n",
    "plt.ylim(lims)\n",
    "_ = plt.plot(lims, lims)"
   ]
  },
  {
   "cell_type": "code",
   "execution_count": 346,
   "metadata": {},
   "outputs": [
    {
     "data": {
      "text/plain": [
       "array([ 68.45655 ,  62.882145,  62.845913,  70.15688 ,  69.021416,\n",
       "        56.39773 ,  63.20619 ,  56.839024,  77.58238 ,  81.23984 ,\n",
       "        66.7903  ,  60.63279 ,  44.155346,  69.051   ,  67.016136,\n",
       "        61.009483,  62.714626,  47.043446,  62.602455,  55.27657 ,\n",
       "        57.93579 ,  53.816036,  68.379875,  63.030487,  77.07584 ,\n",
       "        53.64522 ,  55.73235 ,  53.26228 ,  61.629333,  63.9615  ,\n",
       "        73.31653 ,  68.24177 ,  58.890587,  56.785145,  60.15109 ,\n",
       "        64.86434 ,  70.34254 ,  64.40626 ,  58.41696 ,  68.44471 ,\n",
       "        66.82769 ,  62.22084 ,  64.86314 ,  51.26663 ,  62.447968,\n",
       "        65.81717 ,  58.84475 ,  50.679058,  59.73589 ,  49.848854,\n",
       "        65.7775  ,  67.419014,  69.74641 ,  65.84303 ,  89.8029  ,\n",
       "        72.15791 ,  60.532574,  69.95874 ,  63.797256,  86.103035,\n",
       "        57.945156,  61.24325 ,  71.08016 ,  62.40684 ,  74.54221 ,\n",
       "        63.17412 ,  66.84046 ,  81.35355 ,  59.784504,  72.0055  ,\n",
       "        65.570015,  60.04611 ,  84.928444,  69.36845 ,  67.48349 ,\n",
       "        57.544   ,  59.81001 ,  62.361477,  79.07264 ,  63.90864 ,\n",
       "        67.18935 ,  79.89361 ,  52.064808,  69.19823 ,  59.4253  ,\n",
       "        68.414085,  63.23552 ,  59.064396,  77.79568 ,  70.442314,\n",
       "        74.64196 ,  67.072365,  60.62119 ,  70.80772 , 280.9977  ,\n",
       "        77.38976 ,  70.514595,  61.58461 ,  69.22071 ,  66.84657 ,\n",
       "        80.22811 ,  69.70591 ,  68.0528  ,  65.17931 ,  74.92457 ,\n",
       "        59.355938,  72.465096,  68.71513 ,  61.837746,  75.22148 ,\n",
       "        75.33409 ,  63.649426,  73.093956,  69.52287 ,  74.265015,\n",
       "        75.39424 ,  74.200645,  78.36976 ,  77.3534  ,  68.7594  ,\n",
       "        70.81956 ], dtype=float32)"
      ]
     },
     "execution_count": 346,
     "metadata": {},
     "output_type": "execute_result"
    }
   ],
   "source": [
    "test_predictions"
   ]
  },
  {
   "cell_type": "code",
   "execution_count": 347,
   "metadata": {
    "scrolled": true
   },
   "outputs": [
    {
     "data": {
      "text/plain": [
       "3      79.0\n",
       "9      73.0\n",
       "11     73.0\n",
       "19     69.0\n",
       "23     65.0\n",
       "       ... \n",
       "569    52.0\n",
       "570    45.0\n",
       "577    92.0\n",
       "585    86.0\n",
       "590    83.0\n",
       "Name: popularity, Length: 121, dtype: float32"
      ]
     },
     "execution_count": 347,
     "metadata": {},
     "output_type": "execute_result"
    }
   ],
   "source": [
    "test_labels"
   ]
  },
  {
   "cell_type": "code",
   "execution_count": 261,
   "metadata": {},
   "outputs": [
    {
     "data": {
      "image/png": "[encoded data removed]",
      "text/plain": [
       "<Figure size 864x864 with 1 Axes>"
      ]
     },
     "metadata": {},
     "output_type": "display_data"
    }
   ],
   "source": [
    "error = test_predictions - test_labels\n",
    "plt.hist(error, bins=25)\n",
    "plt.xlabel('Prediction Error')\n",
    "_ = plt.ylabel('Count')"
   ]
  },
  {
   "cell_type": "code",
   "execution_count": null,
   "metadata": {},
   "outputs": [],
   "source": []
  },
  {
   "cell_type": "code",
   "execution_count": null,
   "metadata": {},
   "outputs": [],
   "source": []
  },
  {
   "cell_type": "code",
   "execution_count": null,
   "metadata": {},
   "outputs": [],
   "source": []
  },
  {
   "cell_type": "code",
   "execution_count": null,
   "metadata": {},
   "outputs": [],
   "source": []
  },
  {
   "cell_type": "code",
   "execution_count": null,
   "metadata": {},
   "outputs": [],
   "source": []
  },
  {
   "cell_type": "code",
   "execution_count": 212,
   "metadata": {},
   "outputs": [
    {
     "data": {
      "text/html": [
       "<div>\n",
       "<style scoped>\n",
       "    .dataframe tbody tr th:only-of-type {\n",
       "        vertical-align: middle;\n",
       "    }\n",
       "\n",
       "    .dataframe tbody tr th {\n",
       "        vertical-align: top;\n",
       "    }\n",
       "\n",
       "    .dataframe thead th {\n",
       "        text-align: right;\n",
       "    }\n",
       "</style>\n",
       "<table border=\"1\" class=\"dataframe\">\n",
       "  <thead>\n",
       "    <tr style=\"text-align: right;\">\n",
       "      <th></th>\n",
       "      <th>beats_per_minute</th>\n",
       "      <th>energy</th>\n",
       "      <th>danceability</th>\n",
       "      <th>loudness</th>\n",
       "      <th>liveness</th>\n",
       "      <th>valence</th>\n",
       "      <th>length</th>\n",
       "      <th>length</th>\n",
       "      <th>acousticness</th>\n",
       "      <th>speechiness</th>\n",
       "      <th>popularity</th>\n",
       "      <th>genre_numeric</th>\n",
       "      <th>artist_numeric</th>\n",
       "    </tr>\n",
       "  </thead>\n",
       "  <tbody>\n",
       "    <tr>\n",
       "      <th>0</th>\n",
       "      <td>97</td>\n",
       "      <td>89</td>\n",
       "      <td>67</td>\n",
       "      <td>-4</td>\n",
       "      <td>8</td>\n",
       "      <td>80</td>\n",
       "      <td>217</td>\n",
       "      <td>217</td>\n",
       "      <td>19</td>\n",
       "      <td>4</td>\n",
       "      <td>83</td>\n",
       "      <td>46</td>\n",
       "      <td>174</td>\n",
       "    </tr>\n",
       "    <tr>\n",
       "      <th>1</th>\n",
       "      <td>87</td>\n",
       "      <td>93</td>\n",
       "      <td>75</td>\n",
       "      <td>-5</td>\n",
       "      <td>52</td>\n",
       "      <td>64</td>\n",
       "      <td>263</td>\n",
       "      <td>263</td>\n",
       "      <td>24</td>\n",
       "      <td>23</td>\n",
       "      <td>82</td>\n",
       "      <td>27</td>\n",
       "      <td>49</td>\n",
       "    </tr>\n",
       "    <tr>\n",
       "      <th>2</th>\n",
       "      <td>120</td>\n",
       "      <td>84</td>\n",
       "      <td>76</td>\n",
       "      <td>-3</td>\n",
       "      <td>29</td>\n",
       "      <td>71</td>\n",
       "      <td>200</td>\n",
       "      <td>200</td>\n",
       "      <td>10</td>\n",
       "      <td>14</td>\n",
       "      <td>80</td>\n",
       "      <td>25</td>\n",
       "      <td>89</td>\n",
       "    </tr>\n",
       "    <tr>\n",
       "      <th>3</th>\n",
       "      <td>119</td>\n",
       "      <td>92</td>\n",
       "      <td>70</td>\n",
       "      <td>-4</td>\n",
       "      <td>8</td>\n",
       "      <td>71</td>\n",
       "      <td>295</td>\n",
       "      <td>295</td>\n",
       "      <td>0</td>\n",
       "      <td>4</td>\n",
       "      <td>79</td>\n",
       "      <td>25</td>\n",
       "      <td>94</td>\n",
       "    </tr>\n",
       "    <tr>\n",
       "      <th>4</th>\n",
       "      <td>109</td>\n",
       "      <td>84</td>\n",
       "      <td>64</td>\n",
       "      <td>-5</td>\n",
       "      <td>9</td>\n",
       "      <td>43</td>\n",
       "      <td>221</td>\n",
       "      <td>221</td>\n",
       "      <td>2</td>\n",
       "      <td>4</td>\n",
       "      <td>78</td>\n",
       "      <td>48</td>\n",
       "      <td>19</td>\n",
       "    </tr>\n",
       "  </tbody>\n",
       "</table>\n",
       "</div>"
      ],
      "text/plain": [
       "   beats_per_minute  energy  danceability  loudness  liveness  valence  \\\n",
       "0                97      89            67        -4         8       80   \n",
       "1                87      93            75        -5        52       64   \n",
       "2               120      84            76        -3        29       71   \n",
       "3               119      92            70        -4         8       71   \n",
       "4               109      84            64        -5         9       43   \n",
       "\n",
       "   length  length  acousticness  speechiness  popularity  genre_numeric  \\\n",
       "0     217     217            19            4          83             46   \n",
       "1     263     263            24           23          82             27   \n",
       "2     200     200            10           14          80             25   \n",
       "3     295     295             0            4          79             25   \n",
       "4     221     221             2            4          78             48   \n",
       "\n",
       "   artist_numeric  \n",
       "0             174  \n",
       "1              49  \n",
       "2              89  \n",
       "3              94  \n",
       "4              19  "
      ]
     },
     "execution_count": 212,
     "metadata": {},
     "output_type": "execute_result"
    }
   ],
   "source": [
    "spotify_model.head()"
   ]
  },
  {
   "cell_type": "code",
   "execution_count": 218,
   "metadata": {},
   "outputs": [],
   "source": [
    "X = spotify[[\"beats_per_minute\", \"energy\", \"danceability\", \"loudness\", \"liveness\", \"valence\", \"length\",\n",
    "                        \"length\", \"acousticness\", \"speechiness\", \"genre_numeric\", \"artist_numeric\" ]]\n",
    "y = spotify[[\"popularity\"]]"
   ]
  },
  {
   "cell_type": "code",
   "execution_count": 219,
   "metadata": {},
   "outputs": [],
   "source": [
    "from sklearn.model_selection import train_test_split\n",
    "X_train, X_test, y_train, y_test = train_test_split(X, y, test_size=0.20, random_state=42)"
   ]
  },
  {
   "cell_type": "code",
   "execution_count": 217,
   "metadata": {},
   "outputs": [
    {
     "name": "stderr",
     "output_type": "stream",
     "text": [
      "C:\\Users\\DELL\\anaconda3\\lib\\site-packages\\tensorboard\\compat\\tensorflow_stub\\dtypes.py:541: FutureWarning: Passing (type, 1) or '1type' as a synonym of type is deprecated; in a future version of numpy, it will be understood as (type, (1,)) / '(1,)type'.\n",
      "  _np_qint8 = np.dtype([(\"qint8\", np.int8, 1)])\n",
      "C:\\Users\\DELL\\anaconda3\\lib\\site-packages\\tensorboard\\compat\\tensorflow_stub\\dtypes.py:542: FutureWarning: Passing (type, 1) or '1type' as a synonym of type is deprecated; in a future version of numpy, it will be understood as (type, (1,)) / '(1,)type'.\n",
      "  _np_quint8 = np.dtype([(\"quint8\", np.uint8, 1)])\n",
      "C:\\Users\\DELL\\anaconda3\\lib\\site-packages\\tensorboard\\compat\\tensorflow_stub\\dtypes.py:543: FutureWarning: Passing (type, 1) or '1type' as a synonym of type is deprecated; in a future version of numpy, it will be understood as (type, (1,)) / '(1,)type'.\n",
      "  _np_qint16 = np.dtype([(\"qint16\", np.int16, 1)])\n",
      "C:\\Users\\DELL\\anaconda3\\lib\\site-packages\\tensorboard\\compat\\tensorflow_stub\\dtypes.py:544: FutureWarning: Passing (type, 1) or '1type' as a synonym of type is deprecated; in a future version of numpy, it will be understood as (type, (1,)) / '(1,)type'.\n",
      "  _np_quint16 = np.dtype([(\"quint16\", np.uint16, 1)])\n",
      "C:\\Users\\DELL\\anaconda3\\lib\\site-packages\\tensorboard\\compat\\tensorflow_stub\\dtypes.py:545: FutureWarning: Passing (type, 1) or '1type' as a synonym of type is deprecated; in a future version of numpy, it will be understood as (type, (1,)) / '(1,)type'.\n",
      "  _np_qint32 = np.dtype([(\"qint32\", np.int32, 1)])\n",
      "C:\\Users\\DELL\\anaconda3\\lib\\site-packages\\tensorboard\\compat\\tensorflow_stub\\dtypes.py:550: FutureWarning: Passing (type, 1) or '1type' as a synonym of type is deprecated; in a future version of numpy, it will be understood as (type, (1,)) / '(1,)type'.\n",
      "  np_resource = np.dtype([(\"resource\", np.ubyte, 1)])\n"
     ]
    }
   ],
   "source": [
    "from tensorflow.keras.layers import Input, Dense, Activation,Dropout\n",
    "from tensorflow.keras.models import Model"
   ]
  }
 ],
 "metadata": {
  "kernelspec": {
   "display_name": "Python 3",
   "language": "python",
   "name": "python3"
  },
  "language_info": {
   "codemirror_mode": {
    "name": "ipython",
    "version": 3
   },
   "file_extension": ".py",
   "mimetype": "text/x-python",
   "name": "python",
   "nbconvert_exporter": "python",
   "pygments_lexer": "ipython3",
   "version": "3.7.6"
  }
 },
 "nbformat": 4,
 "nbformat_minor": 4
}
